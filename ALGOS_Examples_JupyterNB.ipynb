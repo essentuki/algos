{
 "cells": [
  {
   "cell_type": "code",
   "execution_count": 2,
   "id": "a15f7e91",
   "metadata": {},
   "outputs": [
    {
     "name": "stdout",
     "output_type": "stream",
     "text": [
      "1D SEARCH INITIALIZED: \n",
      "\n",
      "\u001b[47m\u001b[30;1m 1 \u001b[0m \u001b[47m\u001b[30;1m 3 \u001b[0m \u001b[47m\u001b[30;1m 5 \u001b[0m \u001b[47m\u001b[30;1m 7 \u001b[0m \u001b[47m\u001b[30;1m 9 \u001b[0m \u001b[47m\u001b[30;1m 11 \u001b[0m \u001b[47m\u001b[30;1m 13 \u001b[0m \u001b[47m\u001b[30;1m 15 \u001b[0m \u001b[47m\u001b[30;1m 17 \u001b[0m \u001b[47m\u001b[30;1m 19 \u001b[0m \u001b[47m\u001b[30;1m 21 \u001b[0m \u001b[41m\u001b[37;1m 23 \u001b[0m \u001b[40m\u001b[37;1m   \u001b[0m \n",
      "\n"
     ]
    }
   ],
   "source": [
    "import search1D\n",
    "\n",
    "array = [1,3,5,7,9,11,13,15,17,19,21,23,25]\n",
    "target = 23\n",
    "\n",
    "# --------- ALGOS starts here ---------\n",
    "pointer, visited = search1D.LinearSearch( array, target, 0.75 ), [] \n",
    "# --------- ALGOS  ends here  ---------\n",
    "\n",
    "for i,val in enumerate(array):\n",
    "    \n",
    "    # --------- ALGOS starts here ---------\n",
    "    pointer.print_state(visited,i)                                 \n",
    "    visited.append(i)                                               \n",
    "    # --------- ALGOS  ends here  ---------\n",
    "    \n",
    "    if val == target:\n",
    "        break"
   ]
  },
  {
   "cell_type": "markdown",
   "id": "9ae2f8ba",
   "metadata": {},
   "source": [
    "# Example:\n",
    "\n",
    "Leetcode 5. Last Stone Weight (Easy)\n",
    "You are given an array of integers stones where stones[i] is the weight of the ith stone.\n",
    "\n",
    "We are playing a game with the stones. On each turn, we choose the heaviest two stones and smash them together. Suppose the heaviest two stones have weights x and y with x <= y. The result of this smash is:\n",
    "\n",
    "    If x == y, both stones are destroyed, and\n",
    "    If x != y, the stone of weight x is destroyed, and the stone of weight y has new weight y - x.\n",
    "\n",
    "At the end of the game, there is at most one stone left.\n",
    "\n",
    "Return the weight of the last remaining stone. If there are no stones left, return 0."
   ]
  },
  {
   "cell_type": "code",
   "execution_count": null,
   "id": "05359082",
   "metadata": {},
   "outputs": [],
   "source": [
    "# Original code without ALGOS\n",
    "def lastStoneWeight(stones):\n",
    "        while len(stones) > 1:\n",
    "            stones.sort()\n",
    "            y, x = stones[-1], stones[-2]\n",
    "            stones.pop()\n",
    "            stones.pop()\n",
    "            if y-x:\n",
    "                stones.append(y-x)\n",
    "        if stones: \n",
    "            return stones[0]\n",
    "        return 0"
   ]
  },
  {
   "cell_type": "code",
   "execution_count": 3,
   "id": "ec5f1932",
   "metadata": {},
   "outputs": [],
   "source": [
    "# Modified code including ALGOS\n",
    "import search1D\n",
    "def lastStoneWeight(stones):\n",
    "        while len(stones) > 1:\n",
    "            stones.sort()\n",
    "            \n",
    "            # --------- ALGOS starts here ---------\n",
    "            state = search1D.OneDimSearch(stones, None, 1.25)\n",
    "            state.print_state(range(len(stones)), None, len(stones)-2, len(stones)-1)\n",
    "            # --------- ALGOS  ends here  ---------\n",
    "            \n",
    "            y, x = stones[-1], stones[-2]\n",
    "            stones.pop()\n",
    "            stones.pop()\n",
    "            if y-x:\n",
    "                stones.append(y-x)\n",
    "                \n",
    "            # --------- ALGOS starts here ---------\n",
    "            state = search1D.OneDimSearch(stones, None, 1.25)\n",
    "            state.print_state(range(len(stones)), None, len(stones)-2, len(stones)-1)\n",
    "            # --------- ALGOS  ends here  ---------\n",
    "            \n",
    "        if stones: \n",
    "            return stones[0]\n",
    "        return 0"
   ]
  },
  {
   "cell_type": "code",
   "execution_count": 4,
   "id": "d593b4b9",
   "metadata": {},
   "outputs": [
    {
     "name": "stdout",
     "output_type": "stream",
     "text": [
      "1D SEARCH INITIALIZED: \n",
      "\n",
      "\u001b[44m\u001b[30;1m 1 \u001b[0m \n",
      "\n"
     ]
    },
    {
     "data": {
      "text/plain": [
       "1"
      ]
     },
     "execution_count": 4,
     "metadata": {},
     "output_type": "execute_result"
    }
   ],
   "source": [
    "lastStoneWeight([2,7,4,1,8,1])"
   ]
  },
  {
   "cell_type": "code",
   "execution_count": 3,
   "id": "367f722a",
   "metadata": {},
   "outputs": [
    {
     "name": "stdout",
     "output_type": "stream",
     "text": [
      "1D SEARCH INITIALIZED: \n",
      "\n",
      "\n",
      "\n"
     ]
    },
    {
     "data": {
      "text/plain": [
       "0"
      ]
     },
     "execution_count": 3,
     "metadata": {},
     "output_type": "execute_result"
    }
   ],
   "source": [
    "lastStoneWeight([1]*16)"
   ]
  },
  {
   "cell_type": "code",
   "execution_count": 13,
   "id": "2f1a4697",
   "metadata": {},
   "outputs": [
    {
     "name": "stdout",
     "output_type": "stream",
     "text": [
      "\u001b[43m\u001b[30;1m 3 \u001b[0m->-\u001b[43m\u001b[30;1m 2 \u001b[0m->-\u001b[43m\u001b[30;1m 5 \u001b[0m->-None\n"
     ]
    }
   ],
   "source": [
    "import collections\n",
    "import cells\n",
    "\n",
    "linked_lst = collections.deque()\n",
    "\n",
    "linked_lst.append(3)\n",
    "linked_lst.append(2)\n",
    "linked_lst.append(5)\n",
    "\n",
    "for i in linked_lst:\n",
    "    node = cells.LinkedCell(i)\n",
    "    node.print_to_screen()\n",
    "print(\"None\")"
   ]
  },
  {
   "cell_type": "code",
   "execution_count": null,
   "id": "bf01aba1",
   "metadata": {},
   "outputs": [],
   "source": []
  }
 ],
 "metadata": {
  "kernelspec": {
   "display_name": "Python 3 (ipykernel)",
   "language": "python",
   "name": "python3"
  },
  "language_info": {
   "codemirror_mode": {
    "name": "ipython",
    "version": 3
   },
   "file_extension": ".py",
   "mimetype": "text/x-python",
   "name": "python",
   "nbconvert_exporter": "python",
   "pygments_lexer": "ipython3",
   "version": "3.8.10"
  }
 },
 "nbformat": 4,
 "nbformat_minor": 5
}
